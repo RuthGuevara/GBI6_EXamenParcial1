{
 "cells": [
  {
   "cell_type": "markdown",
   "metadata": {},
   "source": [
    "<img src=\"https://www.ikiam.edu.ec/img/logo-ikiam-grey.png\" width=300 height=240 />\n",
    "\n",
    "# EXAMEN PARCIAL 1\n",
    "\n",
    "## GBI6-2021II: BIOINFORMÁTICA\n",
    "\n",
    "*Guevara Zambrano Ruth Alexandra*\n",
    "\n",
    "**11-01-2021**"
   ]
  },
  {
   "cell_type": "markdown",
   "metadata": {},
   "source": [
    "<font color='red'>NO AGREGUE NUEVAS CELDAS, UTILICE ÚNICAMENTE LAS QUE ESTÁN CREADAS</font>"
   ]
  },
  {
   "cell_type": "markdown",
   "metadata": {},
   "source": [
    "# 1. UNIX\n",
    "\n",
    "## Ejercicio 1\n",
    "Para esta pregunta debe realizar previamente lo siguiente:\n",
    "1. Imprimir el directorio de trabajo actual\n",
    "2. Crear un directorio test1\n",
    "3. No cambie de directorio, pero los items 4, 5 y 6 deben guardarse en el directorio creado en el paso 2.\n",
    "4. Crear el archivo test1.txt\n",
    "5. Guardar el texto Hola GBI6 en un archivo test2.txt\n",
    "6. Guardar la instrucción print(\"Hola GBI6\") en el archivo test1.py\n",
    "Luego seleccione la instrucción que enlista los archivos del directorio test1 y luego imprima el contenido de test2.txt\n",
    "<img src=\"https://github.com/RuthGuevara/GBI6_ExamenParcial1/blob/main/Data/ejercicio1.jpeg\" width=600 height=450 />\n",
    "\n",
    "\n",
    "## Ejercicio 2\n",
    "Para esta pregunta debe realizar previamente lo siguiente:\n",
    "1. Imprimir el directorio de trabajo actual\n",
    "2. Crear un directorio test1\n",
    "3. No cambie de directorio, pero los items 4, 5 y 6 deben guardarse en el directorio creado en el paso 2.\n",
    "4. Crear el archivo test1.txt\n",
    "5. Guardar el texto Hola GBI6 en un archivo test2.txt\n",
    "6. Guardar la instrucción print(\"Hola GBI6\") en el archivo test1.py\n",
    "\n",
    "<img src=\"https://github.com/RuthGuevara/GBI6_ExamenParcial1/blob/main/Data/ejercicio2.jpeg\" width=600 height=450 />\n",
    "\n",
    "\n",
    "## Ejercicio 3\n",
    "Seleccione la opción de código que imprime el directorio de trabajo actual\n",
    "a. $ echo pwd\n",
    "\n",
    "b. $ pwd\n",
    "\n",
    "c. $ touch pwd\n",
    "\n",
    "d. $ get wd\n",
    "\n",
    "<img src=\"https://github.com/RuthGuevara/GBI6_ExamenParcial1/blob/main/Data/ejercicio3.jpeg\" width=600 height=450 />\n",
    "\n",
    "## Ejercicio 4\n",
    "Resuelva el ejercicio 1.10.4 Data Explorer. \n",
    "\n",
    "Resuelva el ejercicio en un documento de nombre ejercicio_1104.sh\n",
    "1. Cargue el documento ejercicio_1104.sh en GitHub utilizando git push. \n",
    "2. Realice el video explicativo de la resolución ejercicio y guarde en YouTube en formato \"Público\" o \"Unlisted\", y pegue el enlace en el cuaderno de Jupyter.\n",
    "La respuesta a este ejercicio es el enlace en GitHub de su archivo: ejercicio_1104.sh \n"
   ]
  },
  {
   "cell_type": "code",
   "execution_count": 4,
   "metadata": {},
   "outputs": [
    {
     "data": {
      "text/html": [
       "<iframe width=\"560\" height=\"315\" src=\"https://youtu.be/_WhH4MlmalQ\" frameborder=\"0\" allow=\"accelerometer; autoplay; clipboard-write; encrypted-media; gyroscope; picture-in-picture\" allowfullscreen></iframe>"
      ],
      "text/plain": [
       "<IPython.core.display.HTML object>"
      ]
     },
     "execution_count": 4,
     "metadata": {},
     "output_type": "execute_result"
    }
   ],
   "source": [
    "# Coloque aquí su video del ejercicio 4\n",
    "from IPython.display import HTML\n",
    "HTML('<iframe width=\"560\" height=\"315\" src=\"https://youtu.be/_WhH4MlmalQ\" frameborder=\"0\" allow=\"accelerometer; autoplay; clipboard-write; encrypted-media; gyroscope; picture-in-picture\" allowfullscreen></iframe>')\n"
   ]
  },
  {
   "cell_type": "markdown",
   "metadata": {},
   "source": [
    "## Ejercicio 5\n",
    "Resuelva el ejercicio 1.10.1 Next Generation Sequencing Data.\n",
    "1. Resuelva el ejercicio en un documento de nombre ejercicio_1101.sh\n",
    "2. Cargue el documento ejercicio_1101.sh en GitHub utilizando git push.\n",
    "3. Realice el video explicativo de la resolución ejercicio y guarde en YouTube en formato \"Público\" o \"Unlisted\", y pegue el enlace en el\n",
    "cuaderno de Jupyter.\n",
    "La respuesta a este ejercicio es el enlace en GitHub de su archivo: ejercicio_1101.sh\n"
   ]
  },
  {
   "cell_type": "code",
   "execution_count": 5,
   "metadata": {},
   "outputs": [
    {
     "data": {
      "text/html": [
       "<iframe width=\"560\" height=\"315\" src=\"https://www.youtube.com/embed/3XlZWpLwvvo\" title=\"YouTube video player\" frameborder=\"0\" allow=\"accelerometer; autoplay; clipboard-write; encrypted-media; gyroscope; picture-in-picture\" allowfullscreen></iframe>"
      ],
      "text/plain": [
       "<IPython.core.display.HTML object>"
      ]
     },
     "execution_count": 5,
     "metadata": {},
     "output_type": "execute_result"
    }
   ],
   "source": [
    "# Coloque aquí su video del ejercicio 5\n",
    "from IPython.display import HTML\n",
    "HTML('<iframe width=\"560\" height=\"315\" src=\"https://www.youtube.com/embed/3XlZWpLwvvo\" title=\"YouTube video player\" frameborder=\"0\" allow=\"accelerometer; autoplay; clipboard-write; encrypted-media; gyroscope; picture-in-picture\" allowfullscreen></iframe>')\n"
   ]
  },
  {
   "cell_type": "markdown",
   "metadata": {
    "jp-MarkdownHeadingCollapsed": true,
    "tags": []
   },
   "source": [
    "Escriba aquí alguna explicación del ejercicio 5 si lo considera necesario (borre esta línea cuando finalice)\n",
    "\n",
    "# 2. CONTROL DE LA VERSIÓN\n",
    "## Pregunta 6\n",
    "1. Cree en GitHub un repositorio de nombre ```GBI6_ExamenParcial1```. \n",
    "2. Cree un archivo ```Readme.md``` que debe tener lo siguiente: \n",
    "- Datos personales\n",
    "- Características del computador\n",
    "- Programas utilizados\n",
    "- Explicación de la data utilizada\n",
    "\n",
    "\n",
    "## Pregunta 7\n",
    "1. Cada vez que resuelva un ejercicio (del 1 al 10), utilizando Git Bash, GitHub Desktop o Atom realice un *git push* con el mensaje: \n",
    "\n",
    "\n",
    "<font color='red'>Apellido Nombre ha resuelto el ejercicio 1</font> % Cambie con sus apellidos y nombres; y con el número de ejercicio que corresponda \n",
    "\n",
    "2. Coloque aquí las capturas de pantalla para cada git push realizado desde Git Bash, GitHub Desktop o Atom. \n",
    "\n",
    "- Control de versión ejercicio 1\n",
    "\n",
    "<img src=\"https://github.com/RuthGuevara/GBI6_ExamenParcial1/blob/main/Data/ejercicio_1.jpeg\" width=600 height=450 />\n",
    "\n",
    "- Control de versión ejercicio 2\n",
    "\n",
    "<img src=\"https://github.com/RuthGuevara/GBI6_ExamenParcial1/blob/main/Data/ejercicio2.jpeg\" width=600 height=450 />\n",
    "\n",
    "- Control de versión ejercicio 3\n",
    "\n",
    "<img src=\"https://github.com/RuthGuevara/GBI6_ExamenParcial1/blob/main/Data/ejercicio3.jpeg\" width=600 height=450 />\n",
    "\n",
    "- Control de versión ejercicio 4\n",
    "\n",
    "<img src=\"https://github.com/RuthGuevara/GBI6_ExamenParcial1/blob/main/Data/ejercicio4.jpeg\" width=600 height=450 />\n",
    "\n",
    "- Control de versión ejercicio 5\n",
    "\n",
    "<img src=\"https://github.com/RuthGuevara/GBI6_ExamenParcial1/blob/main/Data/ejercicio5.jpeg\" width=600 height=450 />\n",
    "\n",
    "- Control de versión ejercicio 8\n",
    "\n",
    "<img src=\"https://github.com/RuthGuevara/GBI6_ExamenParcial1/blob/main/Data/ejercicio6.jpeg\" width=600 height=450 />\n",
    "\n",
    "- Control de versión ejercicio 9\n",
    "\n",
    "<img src=\"data/ejemplo_unix.jp\" width=600 height=450 />\n",
    "\n",
    "- Control de versión ejercicio 10\n",
    "\n",
    "<img src=\"https://github.com/RuthGuevara/GBI6_ExamenParcial1/blob/main/Data/ejercicio8.jpeg\" width=600 height=450 />"
   ]
  },
  {
   "cell_type": "markdown",
   "metadata": {},
   "source": [
    "# 3. INTRODUCCIÓN A PYTHON\n",
    "\n",
    "## Ejercicio 8\n",
    "Para este ejercicio tiene que crear previamente lo siguiente: \n",
    "\n",
    "Descargue la data \"SI Table 1\" (10080Table1.xls) de la página https://www.pnas.org/content/suppl/2006/12/27/0610080104.DC1. Esta data corresponde a algunas características de sueño de mamíferos. Seleccione los 10 primeros registros de la columna \"Total sleep time, hr\" y cree una lista de nombre lista1.\n",
    "\n",
    "Relaciones los códigos y las respuestas que salen al ejecutar"
   ]
  },
  {
   "cell_type": "code",
   "execution_count": null,
   "metadata": {},
   "outputs": [],
   "source": [
    "lista1 = [8.6, 18.0, 19.4, 13.7, 11.1, 10.1, 10.3, 15.6, 14.9, 9.1]\n",
    "ista1.append([\"gbi6\", \"bio1\", \"ikiam\"])\n",
    "print(len(lista1)) #imprime 11\n",
    "print(lista1[-1][2])#imprime ikiam\n",
    "lista1 = [8.6, 18.0, 19.4, 13.7, 11.1, 10.1, 10.3, 15.6, 14.9, 9.1]\n",
    "print(lista1[5]) #imprime 10.1\n",
    "print(sum(lista1)/len(lista1),3) #imprime 13.079999999999998 3\n",
    "print(lista1[8:]) #imprime [14.9, 9.1]\n",
    "\n"
   ]
  },
  {
   "cell_type": "markdown",
   "metadata": {},
   "source": [
    "## Ejercicio 9\n",
    "\n",
    "Para este ejercicio debe debe realizar lo siguiente:\n",
    "1. Crear un diccionario de nombre dic_genomas, donde se tenga la información de la tabla 1 que se encuentra\n",
    "en https://www.nature.com/scitable/topicpage/eukaryotic-genome-complexity-437/.\n",
    "2. Utilice como \"key\" los valores especie de la columna \"Species and Common Name\" y las otras dos columnas ingrese como\n",
    "\"values\".\n",
    "3. Luego de crear el diccionario, extraiga los valores de \"key\" a una lista de nombre \"especies\"\n",
    "4. Extraiga los valores de \"value\" a una lista de nombre \"genomas\"\n",
    "Para evaluar esta pregunta realice un git push del Jupyter Notebook al repositorio del examen."
   ]
  },
  {
   "cell_type": "code",
   "execution_count": null,
   "metadata": {},
   "outputs": [],
   "source": []
  },
  {
   "cell_type": "markdown",
   "metadata": {},
   "source": [
    "## Ejercicio 10\n",
    "Para este ejercicio tiene que crear previamente lo siguiente: \n",
    "\n",
    "En la data https://github.com/sap0408/mtcars/blob/master/mtcars.csv, seleccione los 10 primeros registros y cree una lista de nombre lista1.\n",
    "\n",
    "Relaciones los códigos y las respuestas que salen al ejecutar. "
   ]
  },
  {
   "cell_type": "code",
   "execution_count": null,
   "metadata": {},
   "outputs": [],
   "source": [
    "lista1 = [\"Mazda RX4\", \"Mazda RX4 Wag\", \"Datsun 710\", \"Hornet 4 Drive\", \"Hornet Sportabout\", \"Valiant\", \"Duster 360\", \"Merc 240D\", \"Merc 230\", \"Merc 280\"]\n",
    "print(lista1[4]) #imprime Hornet Sportabout\n",
    "print(lista1[3]) #imprime Hornet 4 Drive\n",
    "lista1.append([\"gbi6\", \"bio1\", \"ikiam\"])\n",
    "print(len(lista1)) #imprime11\n",
    "lista1 = [\"Mazda RX4\", \"Mazda RX4 Wag\", \"Datsun 710\", \"Hornet 4 Drive\", \"Hornet Sportabout\", \"Valiant\", \"Duster 360\", \"Merc 240D\", \"Merc 230\", \"Merc 280\"]\n",
    "print(lista1[2:5]) #imprime ['Datsun 710', 'Hornet 4 Drive', 'Hornet Sportabout']\n",
    "lista1.append([\"gbi6\", \"bio1\", \"ikiam\"])\n",
    "print(lista1[-1][-3]) #imprime gbi6\n"
   ]
  }
 ],
 "metadata": {
  "kernelspec": {
   "display_name": "Python 3",
   "language": "python",
   "name": "python3"
  },
  "language_info": {
   "codemirror_mode": {
    "name": "ipython",
    "version": 3
   },
   "file_extension": ".py",
   "mimetype": "text/x-python",
   "name": "python",
   "nbconvert_exporter": "python",
   "pygments_lexer": "ipython3",
   "version": "3.8.8"
  },
  "latex_envs": {
   "LaTeX_envs_menu_present": true,
   "autoclose": false,
   "autocomplete": true,
   "bibliofile": "biblio.bib",
   "cite_by": "apalike",
   "current_citInitial": 1,
   "eqLabelWithNumbers": true,
   "eqNumInitial": 1,
   "hotkeys": {
    "equation": "Ctrl-E",
    "itemize": "Ctrl-I"
   },
   "labels_anchors": false,
   "latex_user_defs": false,
   "report_style_numbering": false,
   "user_envs_cfg": false
  },
  "toc": {
   "base_numbering": 1,
   "nav_menu": {},
   "number_sections": true,
   "sideBar": false,
   "skip_h1_title": false,
   "title_cell": "Table of Contents",
   "title_sidebar": "Contents",
   "toc_cell": false,
   "toc_position": {
    "height": "1152.67px",
    "left": "41px",
    "top": "110px",
    "width": "253.458px"
   },
   "toc_section_display": true,
   "toc_window_display": false
  },
  "varInspector": {
   "cols": {
    "lenName": 16,
    "lenType": 16,
    "lenVar": 40
   },
   "kernels_config": {
    "python": {
     "delete_cmd_postfix": "",
     "delete_cmd_prefix": "del ",
     "library": "var_list.py",
     "varRefreshCmd": "print(var_dic_list())"
    },
    "r": {
     "delete_cmd_postfix": ") ",
     "delete_cmd_prefix": "rm(",
     "library": "var_list.r",
     "varRefreshCmd": "cat(var_dic_list()) "
    }
   },
   "types_to_exclude": [
    "module",
    "function",
    "builtin_function_or_method",
    "instance",
    "_Feature"
   ],
   "window_display": false
  }
 },
 "nbformat": 4,
 "nbformat_minor": 4
}
